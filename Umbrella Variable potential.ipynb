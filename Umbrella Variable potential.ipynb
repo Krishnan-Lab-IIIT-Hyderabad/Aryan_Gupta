{
 "cells": [
  {
   "attachments": {},
   "cell_type": "markdown",
   "id": "c469cfee",
   "metadata": {},
   "source": [
    "# Make 1-D particle in a 4 well potential using equation of velocity verlet "
   ]
  },
  {
   "cell_type": "code",
   "execution_count": 1,
   "id": "6619e5c1",
   "metadata": {},
   "outputs": [],
   "source": [
    "import matplotlib.pyplot as plt\n",
    "import numpy as np\n",
    "from mpl_toolkits import mplot3d\n",
    "import math\n",
    "from sympy import *"
   ]
  },
  {
   "cell_type": "code",
   "execution_count": 14,
   "id": "3aab3b30",
   "metadata": {},
   "outputs": [],
   "source": [
    "# functions \n",
    "\n",
    "def ke(v):\n",
    "    return (v*v)/2\n",
    "\n",
    "def pe(x):\n",
    "    if(x<= -1.25):\n",
    "        return 4*pie*pie*(x+1.25)*(x+1.25)\n",
    "    if(x > -1.25 and x <= -0.25):\n",
    "        return 2*(1+math.sin(2*pie*x))\n",
    "    if(x > -0.25 and x <= 0.75):\n",
    "        return 3*(1+math.sin(2*pie*x))\n",
    "    if(x > 0.75 and x <= 1.75):\n",
    "        return 4*(1+math.sin(2*pie*x))\n",
    "    return 8*pie*pie*(x-1.75)*(x-1.75)\n",
    "\n",
    "def find_acc(x):\n",
    "    if(x<= -1.25):\n",
    "        return -4*pie**2*(2.0*x + 2.5)\n",
    "    if(x > -1.25 and x <= -0.25):\n",
    "        return -4*pie*math.cos(2*pie*x)\n",
    "    if(x > -0.25 and x <= 0.75):\n",
    "        return -6*pie*math.cos(2*pie*x)\n",
    "    if(x > 0.75 and x <= 1.75):\n",
    "        return -8*pie*math.cos(2*pie*x)\n",
    "    return -8*pie**2*(2.0*x - 3.5)"
   ]
  },
  {
   "cell_type": "code",
   "execution_count": 133,
   "id": "f5db60ae",
   "metadata": {},
   "outputs": [],
   "source": [
    "# initial conditions \n",
    "s = 1000000\n",
    "t = 0.01\n",
    "k = 10\n",
    "vi = 4\n",
    "pie = np.pi\n",
    "X = np.zeros(s)\n",
    "V = np.zeros(s)\n",
    "H = np.zeros(s)\n",
    "x1 = np.linspace(0, 1, s)\n",
    "x2 = np.linspace(-3, 3, s)\n",
    "\n",
    "# lets divide -3 to 3 in 100 windows and each time we reset the sim to random V at x0 \n",
    "# -3 to 3 / 100 is each window \n",
    "# s/100 is the number of steps per window\n",
    "# we start at xbase = z* 6/100 + z+1 * 6/100 - 3 \n",
    "kbias = 15\n",
    "nw = 100\n",
    "\n",
    "X[0] = -3\n",
    "kb = 1\n",
    "T = 10\n",
    "KE = 1.5*kb*T\n",
    "H[0] = KE + pe(X[0])\n",
    "V[0] = math.sqrt((2*(H[0] - pe(X[0]))))/20\n",
    "xbase = -3 + (6/nw)"
   ]
  },
  {
   "cell_type": "code",
   "execution_count": 139,
   "id": "9ea10eed",
   "metadata": {},
   "outputs": [
    {
     "name": "stdout",
     "output_type": "stream",
     "text": [
      "0.0\n",
      "-2.97\n",
      "1.0\n",
      "-2.91\n",
      "2.0\n",
      "-2.85\n",
      "3.0\n",
      "-2.79\n",
      "4.0\n",
      "-2.73\n",
      "5.0\n",
      "-2.67\n",
      "6.0\n",
      "-2.61\n",
      "7.0\n",
      "-2.55\n",
      "8.0\n",
      "-2.49\n",
      "9.0\n",
      "-2.4299999999999997\n",
      "10.0\n",
      "-2.37\n",
      "11.0\n",
      "-2.31\n",
      "12.0\n",
      "-2.25\n",
      "13.0\n",
      "-2.19\n",
      "14.0\n",
      "-2.13\n",
      "15.0\n",
      "-2.0700000000000003\n",
      "16.0\n",
      "-2.01\n",
      "17.0\n",
      "-1.95\n",
      "18.0\n",
      "-1.8900000000000001\n",
      "19.0\n",
      "-1.83\n",
      "20.0\n",
      "-1.77\n",
      "21.0\n",
      "-1.71\n",
      "22.0\n",
      "-1.6500000000000001\n",
      "23.0\n",
      "-1.59\n",
      "24.0\n",
      "-1.53\n",
      "25.0\n",
      "-1.47\n",
      "26.0\n",
      "-1.4100000000000001\n",
      "27.0\n",
      "-1.35\n",
      "28.0\n",
      "-1.29\n",
      "29.0\n",
      "-1.23\n",
      "30.0\n",
      "-1.1700000000000002\n",
      "31.0\n",
      "-1.11\n",
      "32.0\n",
      "-1.05\n",
      "33.0\n",
      "-0.9900000000000002\n",
      "34.0\n",
      "-0.9299999999999997\n",
      "35.0\n",
      "-0.8700000000000001\n",
      "36.0\n",
      "-0.81\n",
      "37.0\n",
      "-0.75\n",
      "38.0\n",
      "-0.6900000000000004\n",
      "39.0\n",
      "-0.6299999999999999\n",
      "40.0\n",
      "-0.5700000000000003\n",
      "41.0\n",
      "-0.5099999999999998\n",
      "42.0\n",
      "-0.4500000000000002\n",
      "43.0\n",
      "-0.3900000000000001\n",
      "44.0\n",
      "-0.33000000000000007\n",
      "45.0\n",
      "-0.27000000000000046\n",
      "46.0\n",
      "-0.20999999999999996\n",
      "47.0\n",
      "-0.15000000000000036\n",
      "48.0\n",
      "-0.08999999999999986\n",
      "49.0\n",
      "-0.03000000000000025\n",
      "50.0\n",
      "0.03000000000000025\n",
      "51.0\n",
      "0.08999999999999986\n",
      "52.0\n",
      "0.1499999999999999\n",
      "53.0\n",
      "0.20999999999999996\n",
      "54.0\n",
      "0.2699999999999996\n",
      "55.0\n",
      "0.33000000000000007\n",
      "56.0\n",
      "0.3899999999999997\n",
      "57.0\n",
      "0.4500000000000002\n",
      "58.0\n",
      "0.5099999999999998\n",
      "59.0\n",
      "0.5699999999999998\n",
      "60.0\n",
      "0.6299999999999999\n",
      "61.0\n",
      "0.6899999999999995\n",
      "62.0\n",
      "0.75\n",
      "63.0\n",
      "0.8099999999999996\n",
      "64.0\n",
      "0.8700000000000001\n",
      "65.0\n",
      "0.9299999999999997\n",
      "66.0\n",
      "0.9899999999999998\n",
      "67.0\n",
      "1.0499999999999998\n",
      "68.0\n",
      "1.1099999999999994\n",
      "69.0\n",
      "1.17\n",
      "70.0\n",
      "1.2300000000000004\n",
      "71.0\n",
      "1.29\n",
      "72.0\n",
      "1.3499999999999996\n",
      "73.0\n",
      "1.4100000000000001\n",
      "74.0\n",
      "1.4699999999999998\n",
      "75.0\n",
      "1.5299999999999994\n",
      "76.0\n",
      "1.5899999999999999\n",
      "77.0\n",
      "1.6500000000000004\n",
      "78.0\n",
      "1.71\n",
      "79.0\n",
      "1.7699999999999996\n",
      "80.0\n",
      "1.83\n",
      "81.0\n",
      "1.8899999999999997\n",
      "82.0\n",
      "1.9499999999999993\n",
      "83.0\n",
      "2.01\n",
      "84.0\n",
      "2.0700000000000003\n",
      "85.0\n",
      "2.13\n",
      "86.0\n",
      "2.1899999999999995\n",
      "87.0\n",
      "2.25\n",
      "88.0\n",
      "2.3099999999999996\n",
      "89.0\n",
      "2.369999999999999\n",
      "90.0\n",
      "2.4299999999999997\n",
      "91.0\n",
      "2.49\n",
      "92.0\n",
      "2.55\n",
      "93.0\n",
      "2.6099999999999994\n",
      "94.0\n",
      "2.67\n",
      "95.0\n",
      "2.7300000000000004\n",
      "96.0\n",
      "2.789999999999999\n",
      "97.0\n",
      "2.8499999999999996\n",
      "98.0\n",
      "2.91\n",
      "99.0\n",
      "2.9699999999999998\n"
     ]
    }
   ],
   "source": [
    "for i in range(s-1):\n",
    "    cur_x = X[i]\n",
    "    cur_v = V[i]\n",
    "    if((i%(s/nw) == 0)):\n",
    "        z = i/(s/nw)\n",
    "        X[i] = (z*(6/nw) + (z+1)*(6/nw))/2 - 3 \n",
    "        V[i] = V[0]\n",
    "        xbase = X[i]\n",
    "        print(z)\n",
    "        print(xbase)\n",
    "    a1 = find_acc(cur_x) + kbias*(xbase - cur_x)\n",
    "    cur_xx = cur_x + t*cur_v + (t*t*a1)/2\n",
    "    X[i+1] = cur_xx\n",
    "    a2 = find_acc(cur_xx) + kbias*(xbase - cur_xx)\n",
    "    cur_vv = cur_v + ((a1+a2)*t)/2\n",
    "    V[i+1] = cur_vv"
   ]
  },
  {
   "cell_type": "code",
   "execution_count": 135,
   "id": "e939fea5",
   "metadata": {},
   "outputs": [
    {
     "data": {
      "text/plain": [
       "[<matplotlib.lines.Line2D at 0x7f892a253310>]"
      ]
     },
     "execution_count": 135,
     "metadata": {},
     "output_type": "execute_result"
    },
    {
     "data": {
      "image/png": "[encoded data removed]",
      "text/plain": [
       "<Figure size 432x288 with 1 Axes>"
      ]
     },
     "metadata": {
      "needs_background": "light"
     },
     "output_type": "display_data"
    }
   ],
   "source": [
    "plt.plot(np.linspace(-2.5, 2.5, s), np.array([pe(xi) for xi in x2]))"
   ]
  },
  {
   "cell_type": "code",
   "execution_count": 136,
   "id": "ad673d12",
   "metadata": {},
   "outputs": [
    {
     "data": {
      "text/plain": [
       "[<matplotlib.lines.Line2D at 0x7f894e3b69d0>]"
      ]
     },
     "execution_count": 136,
     "metadata": {},
     "output_type": "execute_result"
    },
    {
     "data": {
      "image/png": "[encoded data removed]",
      "text/plain": [
       "<Figure size 432x288 with 1 Axes>"
      ]
     },
     "metadata": {
      "needs_background": "light"
     },
     "output_type": "display_data"
    }
   ],
   "source": [
    "plt.plot(x1, X)"
   ]
  },
  {
   "cell_type": "code",
   "execution_count": 137,
   "id": "5e7dbf7f",
   "metadata": {},
   "outputs": [
    {
     "data": {
      "text/plain": [
       "[<matplotlib.lines.Line2D at 0x7f8931a111c0>]"
      ]
     },
     "execution_count": 137,
     "metadata": {},
     "output_type": "execute_result"
    },
    {
     "data": {
      "image/png": "[encoded data removed]",
      "text/plain": [
       "<Figure size 432x288 with 1 Axes>"
      ]
     },
     "metadata": {
      "needs_background": "light"
     },
     "output_type": "display_data"
    }
   ],
   "source": [
    "plt.plot(x1, V)"
   ]
  },
  {
   "cell_type": "code",
   "execution_count": 138,
   "id": "3be1c629",
   "metadata": {},
   "outputs": [],
   "source": [
    "with open('readme.txt', 'w') as f:\n",
    "    for i in range(s):\n",
    "        f.write(str(X[i])+ '\\n')"
   ]
  },
  {
   "cell_type": "code",
   "execution_count": null,
   "id": "1477d263",
   "metadata": {},
   "outputs": [],
   "source": []
  }
 ],
 "metadata": {
  "kernelspec": {
   "display_name": "Python 3 (ipykernel)",
   "language": "python",
   "name": "python3"
  },
  "language_info": {
   "codemirror_mode": {
    "name": "ipython",
    "version": 3
   },
   "file_extension": ".py",
   "mimetype": "text/x-python",
   "name": "python",
   "nbconvert_exporter": "python",
   "pygments_lexer": "ipython3",
   "version": "3.9.7"
  }
 },
 "nbformat": 4,
 "nbformat_minor": 5
}
