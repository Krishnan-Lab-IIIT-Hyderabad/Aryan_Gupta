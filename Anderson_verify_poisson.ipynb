{
 "cells": [
  {
   "attachments": {},
   "cell_type": "markdown",
   "id": "c469cfee",
   "metadata": {},
   "source": [
    "# 3-D 10 particles using Anderson Thermostat"
   ]
  },
  {
   "cell_type": "code",
   "execution_count": 2,
   "id": "6619e5c1",
   "metadata": {},
   "outputs": [],
   "source": [
    "import matplotlib.pyplot as plt\n",
    "import numpy as np\n",
    "from mpl_toolkits import mplot3d\n",
    "import math\n",
    "from sympy import *\n",
    "import random"
   ]
  },
  {
   "cell_type": "code",
   "execution_count": 3,
   "id": "3aab3b30",
   "metadata": {},
   "outputs": [],
   "source": [
    "# functions \n",
    "\n",
    "def init(n,L,s,t):\n",
    "    X = np.random.uniform(0.001,L,3*n)\n",
    "    V = np.zeros(3*n)\n",
    "    H = np.zeros(s)\n",
    "    KE = np.zeros(s)\n",
    "    PE = np.zeros(s)\n",
    "    PLTX = np.zeros(s)\n",
    "    PLTV = np.zeros(s)\n",
    "    return n, L, X, V, s, t,H,KE,PE,PLTX,PLTV\n",
    "\n",
    "def pe(x):\n",
    "    return 0.5*k*x*x\n",
    "\n",
    "def ke_sys(V,n):\n",
    "    velocities_squared = V[::3]**2 + V[1::3]**2 + V[2::3]**2\n",
    "    te = np.sum(velocities_squared) * 0.5\n",
    "    return te\n",
    "\n",
    "def pe_sys(X, n):\n",
    "    te = 0\n",
    "    for i in range(0, 3 * n, 3):\n",
    "        for j in range(0, 3 * n, 3):\n",
    "            if(i>= j):\n",
    "                continue\n",
    "            dist = (X[i] - X[j])*(X[i] - X[j]) + (X[i+1] - X[j+1])*(X[i+1] - X[j+1]) + (X[i+2] - X[j+2])*(X[i+2] - X[j+2])\n",
    "            dist = np.sqrt(dist)\n",
    "            te = te + pe(dist)\n",
    "    return te\n",
    "    \n",
    "def pbc(X,V,n,L):\n",
    "    for i in range(n):\n",
    "        if(X[i] >= L):\n",
    "            if(V[i]>=0):\n",
    "                V[i] = - V[i]\n",
    "        if(X[i] <= 0):\n",
    "            if(V[i]<=0):\n",
    "                V[i] = - V[i]\n",
    "\n",
    "def Anderson(V,n,j,t,sigma):\n",
    "    nu = 10\n",
    "    x = 0\n",
    "    prob_col = t*nu\n",
    "    for i in range(0, 3 * n, 3):\n",
    "        if(random.uniform(0,1) <= prob_col):  # poison for time \n",
    "            x = x+1\n",
    "            V[i] = np.random.normal(0, sigma)\n",
    "            V[i+1] = np.random.normal(0, sigma)\n",
    "            V[i+2] = np.random.normal(0, sigma)\n",
    "    ax = 0\n",
    "    ay = 0\n",
    "    az = 0\n",
    "    for i in range(0, 3 * n, 3):\n",
    "        ax += V[i]\n",
    "        ay += V[i+1]\n",
    "        az += V[i+2]\n",
    "    ax = ax/n\n",
    "    ay = ay/n\n",
    "    az = az/n\n",
    "    for i in range(0, 3 * n, 3):\n",
    "        V[i] = V[i]-ax\n",
    "        V[i+1] = V[i+1]-ay\n",
    "        V[i+2] = V[i+2]-az\n",
    "    return x\n",
    "    \n",
    "def Velocity_rescale(ke_T,V,n):\n",
    "    v_scale = np.sqrt(ke_T/ke_sys(V,n))\n",
    "    ax = 0\n",
    "    ay = 0\n",
    "    az = 0\n",
    "    #V*=v_scale\n",
    "    for i in range(0, 3 * n, 3):\n",
    "        V[i] = v_scale*V[i]\n",
    "        V[i+1] = v_scale*V[i+1]\n",
    "        V[i+2] = v_scale*V[i+2]\n",
    "        ax += V[i]\n",
    "        ay += V[i+1]\n",
    "        az += V[i+2]\n",
    "    ax = ax/n\n",
    "    ay = ay/n\n",
    "    az = az/n\n",
    "    for i in range(0, 3 * n, 3):\n",
    "        V[i] = V[i]-ax\n",
    "        V[i+1] = V[i+1]-ay\n",
    "        V[i+2] = V[i+2]-az\n",
    "\n",
    "def Berendsen(ke_T,V,n,t,tau):\n",
    "    v_scale = np.sqrt(1 + (t/tau)*((ke_T/ke_sys(V,n)) -1))\n",
    "    ax = 0\n",
    "    ay = 0\n",
    "    az = 0\n",
    "    for i in range(0, 3 * n, 3):\n",
    "        V[i] = v_scale*V[i]\n",
    "        V[i+1] = v_scale*V[i+1]\n",
    "        V[i+2] = v_scale*V[i+2]\n",
    "        ax += V[i]\n",
    "        ay += V[i+1]\n",
    "        az += V[i+2]\n",
    "    ax = ax/n\n",
    "    ay = ay/n\n",
    "    az = az/n\n",
    "    for i in range(0, 3 * n, 3):\n",
    "        V[i] = V[i]-ax\n",
    "        V[i+1] = V[i+1]-ay\n",
    "        V[i+2] = V[i+2]-az\n"
   ]
  },
  {
   "cell_type": "code",
   "execution_count": 4,
   "id": "1df4371c",
   "metadata": {},
   "outputs": [],
   "source": [
    "# Force & PE calculations\n",
    "k = 0.1\n",
    "x = symbols('x')\n",
    "f = pe(x)\n",
    "force = diff(f, x)\n",
    "F = lambdify(x, force)"
   ]
  },
  {
   "cell_type": "code",
   "execution_count": 5,
   "id": "c907ef2c",
   "metadata": {},
   "outputs": [],
   "source": [
    "# init\n",
    "n,L,X,V,s,t,H,KE,PE,PLTV,PLTX = init(10,6,10000,0.01) # dict pass to object \n",
    "\n",
    "# Calculate some sigma for Anderson, sigma = square root of KbT, let KE = PE/3 at T and KE = 3/2 KbT\n",
    "sigma = 0.1*np.sqrt((pe_sys(X,n)*2)/9)\n",
    "PDF = np.zeros(s)\n",
    "\n",
    "# Berendsen & Velocity rescale, constant temp T lets assume the KE & tau for Berendsen \n",
    "ke_T = pe_sys(X,n)/4.5\n",
    "tau = 10*t\n",
    "\n",
    "# Propagator \n",
    "\n",
    "for j in range(s):\n",
    "    KE[j] = ke_sys(V,n)\n",
    "    PE[j] = pe_sys(X,n)\n",
    "    H[j] = KE[j] + PE[j]\n",
    "    PLTX[j] = X[3]\n",
    "    PLTV[j] = V[3]\n",
    "    for i in range(0, 3 * n, 3):\n",
    "        c_x = X[i]\n",
    "        c_y = X[i + 1]\n",
    "        c_z = X[i + 2]\n",
    "        c_vx = V[i]\n",
    "        c_vy = V[i + 1]\n",
    "        c_vz = V[i + 2]\n",
    "        ax = 0\n",
    "        ay = 0\n",
    "        az = 0\n",
    "        for l in range(0, 3 * n, 3):\n",
    "            ax = ax - F(X[i]-X[l])\n",
    "            ay = ay - F(X[i+1]-X[l+1])\n",
    "            az = az - F(X[i+2]-X[l+2])\n",
    "        X[i] = c_x + (t * c_vx) + (t * t * ax) / 2\n",
    "        X[i + 1] = c_y + (t * c_vy) + (t * t * ay) / 2\n",
    "        X[i + 2] = c_z + (t * c_vz) + (t * t * az) / 2\n",
    "        for l in range(0, 3 * n, 3):\n",
    "            ax = ax - F(X[i]-X[l])\n",
    "            ay = ay - F(X[i+1]-X[l+1])\n",
    "            az = az - F(X[i+2]-X[l+2])\n",
    "        V[i] = c_vx + (ax * t) / 2\n",
    "        V[i + 1] = c_vy + (ay * t) / 2\n",
    "        V[i + 2] = c_vz + (az * t) / 2\n",
    "    #Velocity_rescale(ke_T,V,n)\n",
    "    PDF[j] = Anderson(V,n,j,t,sigma)\n",
    "    #Berendsen(ke_T,V,n,t,tau)\n",
    "    pbc(X,V,n,L)"
   ]
  },
  {
   "cell_type": "code",
   "execution_count": 6,
   "id": "04278c72",
   "metadata": {},
   "outputs": [
    {
     "data": {
      "text/plain": [
       "[<matplotlib.lines.Line2D at 0x7fb5118790d0>]"
      ]
     },
     "execution_count": 6,
     "metadata": {},
     "output_type": "execute_result"
    },
    {
     "data": {
      "image/png": "[encoded data removed]",
      "text/plain": [
       "<Figure size 432x288 with 1 Axes>"
      ]
     },
     "metadata": {
      "needs_background": "light"
     },
     "output_type": "display_data"
    }
   ],
   "source": [
    "x1 = np.linspace(0, 1, s)\n",
    "plt.plot(x1, PLTV,color='red')\n",
    "plt.plot(x1, PLTX)"
   ]
  },
  {
   "cell_type": "code",
   "execution_count": 7,
   "id": "95288878",
   "metadata": {},
   "outputs": [
    {
     "name": "stdout",
     "output_type": "stream",
     "text": [
      "Fitted Rate Parameter: 0.49892578124999953\n"
     ]
    },
    {
     "data": {
      "image/png": "[encoded data removed]",
      "text/plain": [
       "<Figure size 432x288 with 1 Axes>"
      ]
     },
     "metadata": {
      "needs_background": "light"
     },
     "output_type": "display_data"
    }
   ],
   "source": [
    "plt.hist(PDF, bins = [0,1,2,3,4,5,6,7,8,9,10])\n",
    "from scipy.stats import poisson\n",
    "from scipy.optimize import minimize\n",
    "\n",
    "# Given array of values\n",
    "data = PDF\n",
    "\n",
    "# Define the negative log-likelihood function\n",
    "def neg_log_likelihood(params):\n",
    "    rate = params[0]\n",
    "    return -np.sum(poisson.logpmf(data, rate))\n",
    "\n",
    "# Initial guess for the rate parameter\n",
    "initial_guess = [1.0]\n",
    "\n",
    "# Optimize the negative log-likelihood function\n",
    "result = minimize(neg_log_likelihood, initial_guess, method='Nelder-Mead')\n",
    "\n",
    "# Fitted rate parameter\n",
    "fitted_rate = result.x[0]\n",
    "\n",
    "print(\"Fitted Rate Parameter:\", fitted_rate)\n",
    "\n",
    "# Lambda is n*nu*dt, where nu*dt is the probability of each particle colliding at each step, and n particles in each step. Hence verified poisson\n"
   ]
  },
  {
   "cell_type": "code",
   "execution_count": 8,
   "id": "a3fd4956",
   "metadata": {},
   "outputs": [
    {
     "data": {
      "text/plain": [
       "[<matplotlib.lines.Line2D at 0x7fb4d81611c0>]"
      ]
     },
     "execution_count": 8,
     "metadata": {},
     "output_type": "execute_result"
    },
    {
     "data": {
      "image/png": "[encoded data removed]",
      "text/plain": [
       "<Figure size 432x288 with 1 Axes>"
      ]
     },
     "metadata": {
      "needs_background": "light"
     },
     "output_type": "display_data"
    }
   ],
   "source": [
    "plt.plot(x1, H,color='green')\n",
    "plt.plot(x1, PE,color='purple')\n",
    "plt.plot(x1, KE, color='red')"
   ]
  },
  {
   "cell_type": "code",
   "execution_count": 141,
   "id": "e7fa2601",
   "metadata": {},
   "outputs": [],
   "source": [
    "# Plotting Function .plot for an object H/KE/PE/PS\n",
    "# Vectorized \n",
    "# thermostat in variable \n",
    "# Pip custom install"
   ]
  },
  {
   "cell_type": "code",
   "execution_count": null,
   "id": "c94775b8",
   "metadata": {},
   "outputs": [],
   "source": [
    "# explicit energy function, force der, modular numpy array, X[123],V[123]\n",
    "# propagator function \n",
    "# init X,V,n,L\n",
    "# PBC condt\n",
    "# Thermostat Berrenson, Andreson, Vel Rescale"
   ]
  }
 ],
 "metadata": {
  "kernelspec": {
   "display_name": "Python 3 (ipykernel)",
   "language": "python",
   "name": "python3"
  },
  "language_info": {
   "codemirror_mode": {
    "name": "ipython",
    "version": 3
   },
   "file_extension": ".py",
   "mimetype": "text/x-python",
   "name": "python",
   "nbconvert_exporter": "python",
   "pygments_lexer": "ipython3",
   "version": "3.9.7"
  }
 },
 "nbformat": 4,
 "nbformat_minor": 5
}
