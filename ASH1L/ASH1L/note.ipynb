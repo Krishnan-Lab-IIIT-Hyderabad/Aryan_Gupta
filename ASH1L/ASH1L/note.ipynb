{
 "cells": [
  {
   "cell_type": "code",
   "execution_count": 1,
   "metadata": {},
   "outputs": [
    {
     "name": "stdout",
     "output_type": "stream",
     "text": [
      "2958\n",
      "2958\n"
     ]
    }
   ],
   "source": [
    "seq = \"MDPRNTAMLGLGSDSEGFSRKSPSTINPGTLASKREAEIEGATEEEDPRKRNRERGTEAGKEDGSTDAQQQFSVKETNFSEGNLKLKIGLQAKRTKKPPKNLENYVCRPAIKTTIKHSRKALKSGKMTDEKNEHCPSKWDSSKLFKKAGDATAIDCQAEESIHLHSQGESNPLSKKLSPVHSQMADYISAAPSLVGSRDPDIKDRALLNGGTSVTEKLAQLIATCPPSKSSKAKPKKLGTGTTVGLVSKDLIRKPGVGSIAGIIHKDLIKKPALSTAVGLVTKDPGKKPMFNAAVGLINKDSVKKLGTGTTAVFINKDLGKKPGAITTVGLLSKESGKKLGIGIVPGLVNKESGKKLGLGTVVGLVNKELGKKLSSTVGLVAKDVTKKIVASSAMGLVNKDIGKKLLNCPMAGQLGSKDALNLKSEALLPTQEQLKASCSANISNHDSQELPESLKDSATGKAFEKSVMRHSKESMLEKFSVRKEITNLEKEMFNEGTCIQQDNFSSSERGAFETSKHEKQPPVYCTSPDFQIGGASDASTAKSPFSAVGESNLPSSSPTVSVNPVTRSPPEASSQLVPNPLLLNSTAEQMEEISESIGKSQFTAESTHLNVGHRSLGHSLSIECKGIDKELNESKNTHLDIPRISSSLGKKPSLTSDSGIHAITPSVVNFTSLFSNKPFLKLGAVTAPDKHCQVAESLSSSFQSKPLKKRKGRKPRWTKVVARSTCRSPKGLDLERSELFKNVSCSSLSNSSEPAKFMKTIGASSFVDHDFLKRRLPKLSKSSAPSLALLTDSEKPSHKSFITHKLSSSMCVTSDLLSDIYKPKRGRPKSKEMPQLEGPPKRTLKIPASKVFSLQSKEEQEPPILQPEIEIPSFKQSLSVSPFPKKRGRPKRQMRSPVKMKPPVLSVAPFVATESPSKLESESENHRSSSDFFESEDQLQDTDDLDDSHRQSVCSMSDLEMEPDKKISKRNNGQLMKTIIRKINKMKTLKRKKLLNQILSSSVESSNKGKVQSKLHNTVSSLAATFGSKLGQQINVSKKGTIYIGKRRGRKPKTVLNGLLSGSPASLAVLEQTAQQAAGSALGQILPPLLPSPASSSEILPSPICSQSSGTSGGQSPVSSDAGFVEPSSVPYLHVHSRQGSMIQTLAMKKASKGRRRLSPPTLLPNSPSHLSELTSLKEATPSPVSESHSDETIPSDSGIGTDNNSTSDRAEKFCGQKKRRHSFEHISLIPPETSTVLNSLKEKHKHKCKRRSHDYLSYDKMKRQKRKRKKKYPQLRNRQDPDFIAELEELISRLSEIRITHRSHHFIPRDLLPTIFRINFNSFYTHPSFPLDPLHYIRKPDLKKKRGRPPKMREAMAEMPFMHSLSFPLSSTGFYPSYGMPYSPSPLTAAPIGLGYYGRYPPTLYPPPPSPSFTTPLPPPSYMHAGHLLLNPTKYHKKKHKLLRQEAFLTTSRTPLLSMSTYPSVPPEMAYGWMVEHKHRHRHKHREHRSEQPQVSMDSGSSRSVLESLKRYRFGKDTVGDRYKHKEKHRCHMSCPHLSPSKNLINREEQWVSREPSESSSLALGLQTPLQIDCSESSPSLSLGGFTPNSEPASSDEHMNLFTSAIGSCRVSNPNSSCRKKLTDSPGLFPVQDTALNRPHRKEPLPSSERAIQSLAGSQSASDKPSQRSSESTNCSPTRKRSSSESTSSTVNGVPSRSPRLVASMDDSVDSLLQRIVHHDEQESMEKNGDASITTVSAPPSSSPGHSYSKERALGKSDSLLVPAVPNDSCSNIPLLSEKSASRCSPHHIKRSVVEAMQRQARKMCNYDKILATKKNLDHVNKILKAKKLQRQARTGNNFVKRRPGRPRKCPLQAVVSMQAFQAAQFVSPELNEGEDMSLHLSPDTVTDVIEAVVQSVNLTSEHKKGVKRKNWLLEEQTRKKQKTVPEEEEQENNKSFIETPVEIPSPLETPAEPSEPENTLQPVLALIPREKKAPRPPKKKYQRAGLYSDVYKTIDPKSRLIQLKKEKLEYTPGEHEYGLFPAPIHVGKYLRQKRIDFQLPYDILWQWKHNQLYKKPDVPLYKKIRSNVYVDVKPLSGYEATTCNCKKPDDDTRKGCGDDCLNRMIFAECSPNTCPCGEQCCNQRIQRHEWVQCLERFRAEEKGWGIRTKEPLKAGQFIIEYLGEVVSEQEFRNRMIEQYHNHSDHYCLNLDSGMVIDSYRMGNEARFINHSCDPNCEMQKWSVNGVYRIGLYALKDMPAGTELTYDYNFHSFNVEKQQLCKCGFEKCRGIIGGKSQRMNGLPSHKGSQSSSTHRKSARAKEKRKSKHKLKKRKGHPSEEPSENINTPTRLTPQLQMKPMSNRERNFVLKHHVFLVRNWEKIHQKQEEVKHTRDIHSASLYTRWNGLCRDDGNIKSDVFMTQFSALQTARSVRTRRLAAAEENLEVARAARLAQIFKEICDGIISYRDSSQQTLAAPLLNLPPKKKNADYYEKISDPLDLSTIEKQILIGYYKTVEAFDADMLKVFRNAEKYYGRKSPIGRDVCRLRKAYYSARHEASAQIDEIVGETASEADSSETSVSEKESGHEKDDDVIRCICGLYKDEGLMIQCDKCMVWQHCDCMGVNTDVEHYLCEQCDPRPVDREVPMIPRPHYAQPGCVYFICLLRDDLLLRQGDCVYLMRDSRRTPDGHPVRQSYRLLSHINRDKLDIFRIEKLWKNEKEERFAFGHHYFRPHETHHSPSRRFYHNELFRVPLYEIIPLEAVVGTCCVLDLYTYCKGRPKGIKEQDVYICDYRLDKSAHLFYKIHRNRYPVCTKPYAFDHFPKKLTPKRDFSPHYVPDNYKRNGGRSSWKSERSKPPLKDLGQEDDALPLIEEVLASQEQAAREVPSPEEPDQERATGDIGDAEKKPEESSQEAQLASTPEERRHSQRERLNQILLNLLEKIPGKNAIDVTYLLEEGSGRKLRRRTLFIPENSFRK\"\n",
    "print(len(seq))\n",
    "## find all spaces and tabs in the string \n",
    "## and replace them with empty string\n",
    "seq = seq.replace(\" \", \"\")\n",
    "seq = seq.replace(\"\\t\", \"\")\n",
    "print(len(seq))"
   ]
  },
  {
   "cell_type": "code",
   "execution_count": 2,
   "metadata": {},
   "outputs": [
    {
     "name": "stdout",
     "output_type": "stream",
     "text": [
      "SDSLLVPAVPNDSCSNIPLLSEKSASRCSPHHIKRSVVEAMQRQARKMCNYDKILATKKNLDHVNKILKAKKLQRQARTGNNFVKRRPGRPRKCPLQAVVSMQAFQAAQFVSPELNEGEDMSLHLSPDTVTDVIEAVVQSVNLTSEHKKGVKRKNWLLEEQTRKKQKTVPEEEEQENNKSFIETPVEIPSPLETPAEPSEPENTLQPVLALIPREKKAPRPPKKKYQRAGLYSDVYKTIDPKSRLIQLKKEKLEYTPGEHEYGLFPAPIHVGKYLRQKRIDFQLPYDILWQWKHNQLYKKPDVPLYKKIRSNVYVDVKPLSGYEATTCNCKKPDDDTRKGCGDDCLNRMIFAECSPNTCPCGEQCCNQRIQRHEWVQCLERFRAEEKGWGIRTKEPLKAGQFIIEYLGEVVSEQEFRNRMIEQYHNHSDHYCLNLDSGMVIDSYRMGNEARFINHSCDPNCEMQKWSVNGVYRIGLYALKDMPAGTELTYDYNFHSFNVEKQQLCKCGFEKCRGIIGGKSQRMNGLPSHKGSQSSSTHRKSARAKEKRKSKHKLKKRKGHPSEEPSENINTPTRLTPQLQMKPMSNRERNFVLKHHVFLVRNWEKIHQKQEEVKHTRDIHSASLYTRWNGLCRDDGNIKSDVFMTQFSALQTARSVRTRRLAAAEENLEVARAARLAQIFKEICDGIISYRDSSQQTLAAPLLNLPPKKKNADYYEKISDPLDLSTIEKQILIGYYKTVEAFDADMLKVFRNAEKYYGRKSPIGRDVCRLRKAYYSARHEASAQIDEIVGETASEADSSETSVSEKESGHEKDDDVIRCICGLYKDEGLMIQCDKCMVWQHCDCMGVNTDVEHYLCEQCDPRPVDREVPMIPRPHYAQPGCVYFICLLRDDLLLRQGDCVYLMRDSRRTPDGHPVRQSYRLLSHINRDKLDIFRIEKLWKNEKEERFAFGHHYFRPHETHHSPSRRFYHNELFRVPLYEIIPLEAVVGTCCVLDLYTYCKGRPKGIKEQDVYICDYRLDKSAHLFYKIHRNRYPVCTKPYAFDHFPKKLTPKRDFSPHYVPDNYKRNGGRSSWKSERSKPPLKDLGQEDDALPLIEEVLASQEQAAREVPSPEEPDQERATGDIGDAEKKPEESSQEAQLASTPEERRHSQRERLNQILLNLLEKIPGKNAIDVTYLLEEGSGRKLRRRTLFIPENSFRK\n"
     ]
    }
   ],
   "source": [
    "# print the last 1200 elements of the string\n",
    "print(seq[-1200:])"
   ]
  },
  {
   "cell_type": "code",
   "execution_count": 2,
   "metadata": {},
   "outputs": [
    {
     "data": {
      "text/plain": [
       "72"
      ]
     },
     "execution_count": 2,
     "metadata": {},
     "output_type": "execute_result"
    }
   ],
   "source": [
    "1830 - 1758"
   ]
  },
  {
   "cell_type": "code",
   "execution_count": 3,
   "metadata": {},
   "outputs": [
    {
     "name": "stdout",
     "output_type": "stream",
     "text": [
      "QARTGNNFVKRRPGRPRKCPLQAVVSMQAFQA\n"
     ]
    }
   ],
   "source": [
    "athook4_ext = seq[1833:1865]\n",
    "print(athook4_ext)"
   ]
  },
  {
   "cell_type": "code",
   "execution_count": 2,
   "metadata": {},
   "outputs": [
    {
     "data": {
      "text/plain": [
       "-440"
      ]
     },
     "execution_count": 2,
     "metadata": {},
     "output_type": "execute_result"
    }
   ],
   "source": [
    "1842 - 2282"
   ]
  },
  {
   "cell_type": "code",
   "execution_count": 4,
   "metadata": {},
   "outputs": [
    {
     "data": {
      "text/plain": [
       "'KRRPGRPRKCPLQAVVSMQAFQAAQFVSPELNEGEDMSLHLSPDTVTDVIEAVVQSVNLTSEHKKGVKRKNWLLEEQTRKKQKTVPEEEEQENNKSFIETPVEIPSPLETPAEPSEPENTLQPVLALIPREKKAPRPPKKKYQRAGLYSDVYKTIDPKSRLIQLKKEKLEYTPGEHEYGLFPAPIHVGKYLRQKRIDFQLPYDILWQWKHNQLYKKPDVPLYKKIRSNVYVDVKPLSGYEATTCNCKKPDDDTRKGCGDDCLNRMIFAECSPNTCPCGEQCCNQRIQRHEWVQCLERFRAEEKGWGIRTKEPLKAGQFIIEYLGEVVSEQEFRNRMIEQYHNHSDHYCLNLDSGMVIDSYRMGNEARFINHSCDPNCEMQKWSVNGVYRIGLYALKDMPAGTELTYDYNFHSFNVEKQQLCKCGFEKCRGIIGGKSQRMN'"
      ]
     },
     "execution_count": 4,
     "metadata": {},
     "output_type": "execute_result"
    }
   ],
   "source": [
    "seq[1842:2282]"
   ]
  },
  {
   "cell_type": "markdown",
   "metadata": {},
   "source": [
    "athook1 - 823 835 \n",
    "athook2 - 885 897\n",
    "athook3 - 1345 1357\n",
    "athook4 - 1843 1855"
   ]
  },
  {
   "cell_type": "code",
   "execution_count": 2,
   "metadata": {},
   "outputs": [
    {
     "name": "stdout",
     "output_type": "stream",
     "text": [
      "PKRGRPKSKEMP\n",
      "KKRGRPKRQMRS\n",
      "KKRGRPPKMREA\n",
      "RRPGRPRKCPLQ\n"
     ]
    }
   ],
   "source": [
    "athook1 = seq[823:835]\n",
    "athook2 = seq[885:897]\n",
    "athook3 = seq[1345:1357]\n",
    "athook4 = seq[1843:1855]\n",
    "print(athook1)\n",
    "print(athook2)\n",
    "print(athook3)\n",
    "print(athook4)\n"
   ]
  },
  {
   "cell_type": "code",
   "execution_count": 3,
   "metadata": {},
   "outputs": [
    {
     "name": "stdout",
     "output_type": "stream",
     "text": [
      "KRRLPKLSKSSAPSLALLTDSEKPSHKSFITHKLSSSMCVTSDLLSDIYKPKRGRPKSKEMPQLEGPPKRTLKIPASKVFSLQSKEEQEPPILQPEIEIPSFKQSLSVSPFP\n",
      "QLEGPPKRTLKIPASKVFSLQSKEEQEPPILQPEIEIPSFKQSLSVSPFPKKRGRPKRQMRSPVKMKPPVLSVAPFVATESPSKLESESENHRSSSDFFESEDQLQDTDDLD\n",
      "LSEIRITHRSHHFIPRDLLPTIFRINFNSFYTHPSFPLDPLHYIRKPDLKKKRGRPPKMREAMAEMPFMHSLSFPLSSTGFYPSYGMPYSPSPLTAAPIGLGYYGRYPPTLY\n",
      "SVVEAMQRQARKMCNYDKILATKKNLDHVNKILKAKKLQRQARTGNNFVKRRPGRPRKCPLQAVVSMQAFQAAQFVSPELNEGEDMSLHLSPDTVTDVIEAVVQSVNLTSEH\n"
     ]
    }
   ],
   "source": [
    "extdhook1 = seq[773:885]\n",
    "extdhook2 = seq[835:947]\n",
    "extdhook3 = seq[1295:1407]\n",
    "extdhook4 = seq[1793:1905]\n",
    "print(extdhook1)\n",
    "print(extdhook2)\n",
    "print(extdhook3)\n",
    "print(extdhook4)"
   ]
  },
  {
   "cell_type": "code",
   "execution_count": 20,
   "metadata": {},
   "outputs": [
    {
     "ename": "RuntimeError",
     "evalue": "error_theta is not one of the parameters [theta phi psi dx dy dz]",
     "output_type": "error",
     "traceback": [
      "\u001b[1;31m---------------------------------------------------------------------------\u001b[0m",
      "\u001b[1;31mRuntimeError\u001b[0m                              Traceback (most recent call last)",
      "\u001b[1;32mc:\\Users\\2015a\\Desktop\\ASH1L\\note.ipynb Cell 5\u001b[0m line \u001b[0;36m6\n\u001b[0;32m      <a href='vscode-notebook-cell:/c%3A/Users/2015a/Desktop/ASH1L/note.ipynb#W5sZmlsZQ%3D%3D?line=2'>3</a>\u001b[0m alignment \u001b[39m=\u001b[39m tmscoring\u001b[39m.\u001b[39mTMscoring(\u001b[39m'\u001b[39m\u001b[39mathook1/athook1_unrelaxed.pdb\u001b[39m\u001b[39m'\u001b[39m, \u001b[39m'\u001b[39m\u001b[39mathook1/athook1.pdb\u001b[39m\u001b[39m'\u001b[39m)  \u001b[39m# Find the optimal alignment\u001b[39;00m\n\u001b[0;32m      <a href='vscode-notebook-cell:/c%3A/Users/2015a/Desktop/ASH1L/note.ipynb#W5sZmlsZQ%3D%3D?line=4'>5</a>\u001b[0m \u001b[39m# Find the optimal alignment\u001b[39;00m\n\u001b[1;32m----> <a href='vscode-notebook-cell:/c%3A/Users/2015a/Desktop/ASH1L/note.ipynb#W5sZmlsZQ%3D%3D?line=5'>6</a>\u001b[0m alignment\u001b[39m.\u001b[39moptimise()\n\u001b[0;32m      <a href='vscode-notebook-cell:/c%3A/Users/2015a/Desktop/ASH1L/note.ipynb#W5sZmlsZQ%3D%3D?line=7'>8</a>\u001b[0m \u001b[39m# Get the TM score:\u001b[39;00m\n\u001b[0;32m      <a href='vscode-notebook-cell:/c%3A/Users/2015a/Desktop/ASH1L/note.ipynb#W5sZmlsZQ%3D%3D?line=8'>9</a>\u001b[0m alignment\u001b[39m.\u001b[39mtmscore(\u001b[39m*\u001b[39m\u001b[39m*\u001b[39malignment\u001b[39m.\u001b[39mget_current_values())\n",
      "File \u001b[1;32mc:\\Users\\2015a\\anaconda3\\Lib\\site-packages\\tmscoring\\tmscore.py:126\u001b[0m, in \u001b[0;36mAligning.optimise\u001b[1;34m(self, restart)\u001b[0m\n\u001b[0;32m    123\u001b[0m \u001b[39melse\u001b[39;00m:\n\u001b[0;32m    124\u001b[0m     default \u001b[39m=\u001b[39m \u001b[39mself\u001b[39m\u001b[39m.\u001b[39mget_current_values()\n\u001b[1;32m--> 126\u001b[0m m \u001b[39m=\u001b[39m iminuit\u001b[39m.\u001b[39mMinuit(\u001b[39mself\u001b[39m, error_theta\u001b[39m=\u001b[39m\u001b[39m0.1\u001b[39m, error_phi\u001b[39m=\u001b[39m\u001b[39m0.1\u001b[39m, error_psi\u001b[39m=\u001b[39m\u001b[39m0.1\u001b[39m,\n\u001b[0;32m    127\u001b[0m                    error_dx\u001b[39m=\u001b[39m\u001b[39m1\u001b[39m, error_dy\u001b[39m=\u001b[39m\u001b[39m1\u001b[39m, error_dz\u001b[39m=\u001b[39m\u001b[39m1\u001b[39m, print_level\u001b[39m=\u001b[39m\u001b[39m0\u001b[39m, pedantic\u001b[39m=\u001b[39m\u001b[39mFalse\u001b[39;00m,\n\u001b[0;32m    128\u001b[0m                    \u001b[39m*\u001b[39m\u001b[39m*\u001b[39mdefault)\n\u001b[0;32m    129\u001b[0m m\u001b[39m.\u001b[39mmigrad()\n\u001b[0;32m    131\u001b[0m _values \u001b[39m=\u001b[39m m\u001b[39m.\u001b[39mvalues\n",
      "File \u001b[1;32mc:\\Users\\2015a\\anaconda3\\Lib\\site-packages\\iminuit\\minuit.py:647\u001b[0m, in \u001b[0;36mMinuit.__init__\u001b[1;34m(***failed resolving arguments***)\u001b[0m\n\u001b[0;32m    639\u001b[0m \u001b[39mself\u001b[39m\u001b[39m.\u001b[39m_strategy \u001b[39m=\u001b[39m MnStrategy(\u001b[39m1\u001b[39m)\n\u001b[0;32m    640\u001b[0m \u001b[39mself\u001b[39m\u001b[39m.\u001b[39m_fcn \u001b[39m=\u001b[39m FCN(\n\u001b[0;32m    641\u001b[0m     fcn,\n\u001b[0;32m    642\u001b[0m     \u001b[39mgetattr\u001b[39m(fcn, \u001b[39m\"\u001b[39m\u001b[39mgrad\u001b[39m\u001b[39m\"\u001b[39m, grad),\n\u001b[0;32m    643\u001b[0m     array_call,\n\u001b[0;32m    644\u001b[0m     \u001b[39mgetattr\u001b[39m(fcn, \u001b[39m\"\u001b[39m\u001b[39merrordef\u001b[39m\u001b[39m\"\u001b[39m, \u001b[39m1.0\u001b[39m),\n\u001b[0;32m    645\u001b[0m )\n\u001b[1;32m--> 647\u001b[0m \u001b[39mself\u001b[39m\u001b[39m.\u001b[39m_init_state \u001b[39m=\u001b[39m _make_init_state(\u001b[39mself\u001b[39m\u001b[39m.\u001b[39m_pos2var, start, kwds)\n\u001b[0;32m    648\u001b[0m \u001b[39mself\u001b[39m\u001b[39m.\u001b[39m_values \u001b[39m=\u001b[39m mutil\u001b[39m.\u001b[39mValueView(\u001b[39mself\u001b[39m)\n\u001b[0;32m    649\u001b[0m \u001b[39mself\u001b[39m\u001b[39m.\u001b[39m_errors \u001b[39m=\u001b[39m mutil\u001b[39m.\u001b[39mErrorView(\u001b[39mself\u001b[39m)\n",
      "File \u001b[1;32mc:\\Users\\2015a\\anaconda3\\Lib\\site-packages\\iminuit\\minuit.py:2685\u001b[0m, in \u001b[0;36m_make_init_state\u001b[1;34m(pos2var, args, kwds)\u001b[0m\n\u001b[0;32m   2683\u001b[0m     \u001b[39mfor\u001b[39;00m kw \u001b[39min\u001b[39;00m kwds:\n\u001b[0;32m   2684\u001b[0m         \u001b[39mif\u001b[39;00m kw \u001b[39mnot\u001b[39;00m \u001b[39min\u001b[39;00m pos2var:\n\u001b[1;32m-> 2685\u001b[0m             \u001b[39mraise\u001b[39;00m \u001b[39mRuntimeError\u001b[39;00m(\n\u001b[0;32m   2686\u001b[0m                 \u001b[39mf\u001b[39m\u001b[39m\"\u001b[39m\u001b[39m{\u001b[39;00mkw\u001b[39m}\u001b[39;00m\u001b[39m is not one of the parameters [\u001b[39m\u001b[39m{\u001b[39;00m\u001b[39m'\u001b[39m\u001b[39m \u001b[39m\u001b[39m'\u001b[39m\u001b[39m.\u001b[39mjoin(pos2var)\u001b[39m}\u001b[39;00m\u001b[39m]\u001b[39m\u001b[39m\"\u001b[39m\n\u001b[0;32m   2687\u001b[0m             )\n\u001b[0;32m   2688\u001b[0m     nargs \u001b[39m=\u001b[39m \u001b[39mlen\u001b[39m(kwds)\n\u001b[0;32m   2690\u001b[0m \u001b[39mif\u001b[39;00m \u001b[39mlen\u001b[39m(pos2var) \u001b[39m!=\u001b[39m nargs:\n",
      "\u001b[1;31mRuntimeError\u001b[0m: error_theta is not one of the parameters [theta phi psi dx dy dz]"
     ]
    }
   ],
   "source": [
    "import tmscoring\n",
    "\n",
    "alignment = tmscoring.TMscoring('athook1/athook1_unrelaxed.pdb', 'athook1/athook1.pdb')  # Find the optimal alignment\n",
    "\n",
    "# Find the optimal alignment\n",
    "alignment.optimise()\n",
    "\n",
    "# Get the TM score:\n",
    "alignment.tmscore(**alignment.get_current_values())\n",
    "\n",
    "# Get the TM local scores:\n",
    "alignment.tmscore_samples(**alignment.get_current_values())\n",
    "\n",
    "# RMSD of the protein aligned according to TM score\n",
    "alignment.rmsd(**alignment.get_current_values())\n",
    "\n",
    "# Returns the transformation matrix between both structures:\n",
    "alignment.get_matrix(**alignment.get_current_values())\n",
    "\n",
    "# Save the aligned files:\n",
    "alignment.write(outputfile='aligned.pdb', appended=True)"
   ]
  },
  {
   "cell_type": "code",
   "execution_count": 23,
   "metadata": {},
   "outputs": [
    {
     "name": "stdout",
     "output_type": "stream",
     "text": [
      "Requirement already satisfied: iminuit in c:\\users\\2015a\\anaconda3\\lib\\site-packages (2.24.0)\n",
      "Requirement already satisfied: numpy>=1.21 in c:\\users\\2015a\\anaconda3\\lib\\site-packages (from iminuit) (1.24.3)\n"
     ]
    }
   ],
   "source": [
    "!pip install --upgrade iminuit"
   ]
  },
  {
   "cell_type": "code",
   "execution_count": null,
   "metadata": {},
   "outputs": [],
   "source": []
  }
 ],
 "metadata": {
  "kernelspec": {
   "display_name": "base",
   "language": "python",
   "name": "python3"
  },
  "language_info": {
   "codemirror_mode": {
    "name": "ipython",
    "version": 3
   },
   "file_extension": ".py",
   "mimetype": "text/x-python",
   "name": "python",
   "nbconvert_exporter": "python",
   "pygments_lexer": "ipython3",
   "version": "3.11.5"
  }
 },
 "nbformat": 4,
 "nbformat_minor": 2
}
